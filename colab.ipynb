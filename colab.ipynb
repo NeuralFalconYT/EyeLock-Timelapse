{
  "nbformat": 4,
  "nbformat_minor": 0,
  "metadata": {
    "colab": {
      "provenance": []
    },
    "kernelspec": {
      "name": "python3",
      "display_name": "Python 3"
    },
    "language_info": {
      "name": "python"
    }
  },
  "cells": [
    {
      "cell_type": "code",
      "execution_count": null,
      "metadata": {
        "cellView": "form",
        "id": "Ol_DlB-MWCiH"
      },
      "outputs": [],
      "source": [
        "#@title Install\n",
        "%cd /content/\n",
        "!git clone https://github.com/NeuralFalconYT/EyeLock-Timelapse.git\n",
        "%cd ./EyeLock-Timelapse\n",
        "!pip install -r requirements.txt\n",
        "from IPython.display import clear_output\n",
        "clear_output()\n",
        "import time\n",
        "time.sleep(5)\n",
        "import os\n",
        "os.kill(os.getpid(), 9)"
      ]
    },
    {
      "cell_type": "code",
      "source": [
        "%cd /content/EyeLock-Timelapse\n",
        "!python app.py --share --debug"
      ],
      "metadata": {
        "id": "K3Tf0HU_WMNb"
      },
      "execution_count": 1,
      "outputs": []
    },
    {
      "cell_type": "code",
      "source": [
        "%cd /content/EyeLock-Timelapse\n",
        "from eye_lock import EyeLock_Timelapse\n",
        "uploaded_selfies_folder = '/content/selfies'  # @param {type: \"string\"}\n",
        "\n",
        "timelapse_video = EyeLock_Timelapse(uploaded_selfies_folder)\n",
        "\n",
        "print(\"Timelapse video saved at:\", timelapse_video)"
      ],
      "metadata": {
        "cellView": "form",
        "id": "LF0fwDhLXX6S"
      },
      "execution_count": null,
      "outputs": []
    }
  ]
}